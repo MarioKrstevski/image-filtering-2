{
 "cells": [
  {
   "cell_type": "markdown",
   "metadata": {
    "kernel": "SoS"
   },
   "source": [
    "За да филтрираме слика во фреквенциски домен потребно е да ја помножиме сликата во фреквенцискидомен со филтерот (кернел) кој е исто така во фреквенциски домен.\n",
    "\n",
    "$$I_{f,filt} = HI_f$$\n",
    "\n",
    "За таа цел потребно е да се вметне Octave функција која ќе креира Band pass gaussian filter во фреквенциски домен. Bandpass гаусовиот филтер во фреквенциски домен е дефиниран со равенката.\n",
    "\n",
    "$$ H(i,j) = e^{-\\frac{d(i,j)^2}{f_h^2}} (1 - e^{-\\frac{d(i,j)^2}{f_l^2}}) $$\n",
    "\n",
    "Каде што 𝑑(𝑖,𝑗) е евклидовото растојанието на даден пиксел од центарот на сликата, додека 𝑓ℎ и 𝑓𝑙 се праговите на високите и ниските фреквенции кои сакаме да ги филтрираме. \n",
    "Конверзија на 2D сликата од просторен во фреквенциски домен се прави со користење на Фуриева трансформација. Фуриевата трансформација е дефинирана како:\n",
    "\n",
    "$$ F(u,v) = \\iint_{-\\infty}^{\\infty} f(x,y) e^{-i2\\pi(ux + vy)} \\,dx\\,dy$$\n",
    "\n",
    "А во дискретниот домен горната равенка може да биде преведена како\n",
    "\n",
    "$$ F(u,v) = \\sum_{m=-\\infty}^{\\infty} \\sum_{n=-\\infty}^{\\infty} f[m,n] \\cdot e^{-i2\\pi(umx_0 + vny_0)} $$\n",
    "\n",
    "Конверзија на 2D сликата од фреквенциски во просторен домен се прави со користење на инверзна Фуриева трансформација. Инверзната Фуриева трансформација е дефинирана како:\n",
    "\n",
    "$$ f(x,y) = \\iint_{-\\infty}^{\\infty} F(u,v) e^{i2\\pi(ux + vy)} \\,du\\,dv$$\n",
    "\n",
    "А во дискретниот домен горната равенка може да биде преведена како\n",
    "\n",
    "$$ f(x,y) = \\sum_{m=-\\infty}^{\\infty} \\sum_{n=-\\infty}^{\\infty} F(m,n) \\cdot e^{i2\\pi(xmu_0 + ynv_0)} $$\n"
   ]
  },
  {
   "cell_type": "code",
   "execution_count": 3,
   "metadata": {
    "kernel": "Octave"
   },
   "outputs": [
    {
     "name": "stdout",
     "output_type": "stream",
     "text": [
      "Created file '/Users/mariokrstevski/Documents/Projects/image-filtering/create_filter.m'.\n"
     ]
    }
   ],
   "source": [
    "%%file create_filter.m\n",
    "function filter = create_filter(nx,ny,d0,d1)\n",
    "\n",
    "filter = ones(nx,ny);\n",
    "\n",
    "for i = 0:nx-1,\n",
    "            for j = 0:ny-1\n",
    "                 dist= sqrt((i-nx/2)^2 + (j-ny/2)^2);\n",
    "                 filter(i+1,j+1) = exp(-dist^2/(2*(d1^2))).*(1.0-exp(-dist^2/(2*(d0^2))));\n",
    "            end\n",
    "end\n",
    "\n",
    "filter(nx/2+1,ny/2+1)=1;\n",
    "end"
   ]
  },
  {
   "cell_type": "code",
   "execution_count": null,
   "metadata": {
    "kernel": "Octave"
   },
   "outputs": [],
   "source": [
    "clear all\n",
    "%read image\n",
    "im = double(imread('Barbara.tif'));\n",
    "%size of the image\n",
    "[nx ny] = size(im);\n",
    "%Transform the image from spatial to frequency domain\n",
    "im_fft = fftshift(fft2(im));\n",
    "% Create Gaussian bandpass kernels, in frequency domain, for 20 different cut off frequencies and filter the image\n",
    "p=1;\n",
    "for i = 1:10:101\n",
    "q=1;\n",
    "    for j = 1:10:101\n",
    "        %Create the bandpass kernel\n",
    "        tmp1 = create_filter(nx,ny,i,j);\n",
    "        %Filter the image with the bandpass kernel and transform it back to spatial domain\n",
    "        tmp = abs(ifft2(ifftshift(tmp1.*im_fft)));\n",
    "        %Save the filtered image (in spatial domain) and kernel (in frequency domain) for visualization \n",
    "        filtered_image(p,q,:) = tmp(:);\n",
    "        filter_kernel(p,q,:) = tmp1(:);\n",
    "        q=q+1;\n",
    "    end\n",
    "    p=p+1;\n",
    "end"
   ]
  },
  {
   "cell_type": "code",
   "execution_count": null,
   "metadata": {
    "kernel": "Octave"
   },
   "outputs": [],
   "source": [
    "Read array from Octave into python \n",
    "# ??"
   ]
  },
  {
   "cell_type": "code",
   "execution_count": 144,
   "metadata": {
    "kernel": "Python 3"
   },
   "outputs": [],
   "source": [
    "import numpy as np\n",
    "import cv2\n",
    "from matplotlib import pyplot as plt\n",
    "import glob\n",
    "\n",
    "X_data = []\n",
    "# Im creating an substitue array, imagining that it is imported and contains images, and continuing to write pseudocode\n",
    "\n",
    "#print('X_data shape:', np.array(X_data).shape)\n",
    "\n",
    "pateka = r'/Users/mariokrstevski/Downloads/Domasna_rabota_metodologija/Barbara.tif'\n",
    "slika = cv2.imread(pateka,0)\n",
    "cv2.imshow('image', img)\n",
    "\n",
    "for x in range(10):\n",
    "    X_data.append(slika)\n"
   ]
  },
  {
   "cell_type": "code",
   "execution_count": 152,
   "metadata": {
    "kernel": "Python 3"
   },
   "outputs": [
    {
     "data": {
      "application/vnd.jupyter.widget-view+json": {
       "model_id": "b6e45d86dfc04cdb9d1e8ca232a78c6d",
       "version_major": 2,
       "version_minor": 0
      },
      "text/plain": [
       "HBox(children=(Label(value='Frequency:'), interactive(children=(IntRangeSlider(value=(2, 7), description=' ', …"
      ]
     },
     "metadata": {},
     "output_type": "display_data"
    }
   ],
   "source": [
    "from ipywidgets import interactive, widgets, interact, HBox, Label\n",
    "from IPython.display import Javascript\n",
    "import numpy as np\n",
    "import cv2\n",
    "from matplotlib import pyplot as plt\n",
    "import glob\n",
    "\n",
    "\n",
    "L = 0\n",
    "H = 10\n",
    "\n",
    "test = 25\n",
    "\n",
    "slider = widgets.IntRangeSlider(\n",
    "    min=0,\n",
    "    max=10,\n",
    "    step=1,\n",
    "    readout=False,\n",
    "    description=' ')\n",
    "\n",
    "# print(slider.value[0])\n",
    "# print(X_data[slider.value[0]])\n",
    "\n",
    "def listener(y):\n",
    "    global L, H\n",
    "    L, H = y[0], y[1]\n",
    "    print(L)\n",
    "    print(H)\n",
    "    plt.subplot(121),plt.imshow(X_data[slider.value[0]], cmap = 'gray')\n",
    "    plt.title('Input image'), plt.xticks([]), plt.yticks([])\n",
    "    plt.subplot(122),plt.imshow(X_data[slider.value[1]], cmap = 'gray')\n",
    "    plt.title('Magnitude spectrum'), plt.xticks([]), plt.yticks([])\n",
    "    plt.show()\n",
    "    \n",
    "#     display(Javascript('IPython.notebook.execute_cells_below()'))\n",
    "\n",
    "HBox([Label('Frequency:'), interactive(listener, y=slider)])\n",
    "\n",
    "# img = cv2.imread(path,0)\n",
    "# cv2.imshow('image', img) \n",
    "\n",
    "# img_float32 = np.float32(img)\n",
    "\n",
    "# dft = cv2.dft(img_float32, flags = cv2.DFT_COMPLEX_OUTPUT)\n",
    "# dft_shift = np.fft.fftshift(dft)\n",
    "\n",
    "# magnitude_spectrum = 20*np.log(cv2.magnitude(dft_shift[:,:,0],dft_shift[:,:,1]))\n",
    "\n",
    "# plt.subplot(121),plt.imshow(X_data[slider.value[0]], cmap = 'gray')\n",
    "# plt.title('Input Image'), plt.xticks([]), plt.yticks([])\n",
    "# plt.subplot(122),plt.imshow(magnitude_spectrum, cmap = 'gray')\n",
    "# plt.title('Magnitude Spectrum'), plt.xticks([]), plt.yticks([])\n",
    "# plt.show()"
   ]
  },
  {
   "cell_type": "code",
   "execution_count": null,
   "metadata": {
    "kernel": "Python 3"
   },
   "outputs": [],
   "source": []
  }
 ],
 "metadata": {
  "kernelspec": {
   "display_name": "SoS",
   "language": "sos",
   "name": "sos"
  },
  "language_info": {
   "codemirror_mode": "sos",
   "file_extension": ".sos",
   "mimetype": "text/x-sos",
   "name": "sos",
   "nbconvert_exporter": "sos_notebook.converter.SoS_Exporter",
   "pygments_lexer": "sos"
  },
  "sos": {
   "kernels": [
    [
     "Octave",
     "octave",
     "octave",
     "",
     ""
    ],
    [
     "Python 3",
     "python3",
     "python3",
     "",
     {
      "name": "ipython",
      "version": 3
     }
    ],
    [
     "SoS",
     "sos",
     "",
     "",
     "sos"
    ]
   ],
   "panel": {
    "displayed": true,
    "height": 0
   },
   "version": "0.21.0"
  }
 },
 "nbformat": 4,
 "nbformat_minor": 2
}
